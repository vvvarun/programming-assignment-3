{
 "cells": [
  {
   "cell_type": "code",
   "execution_count": 1,
   "metadata": {},
   "outputs": [
    {
     "name": "stdout",
     "output_type": "stream",
     "text": [
      "WARNING:tensorflow:From c:\\Users\\V Varunkumar\\AppData\\Local\\Programs\\Python\\Python311\\Lib\\site-packages\\keras\\src\\losses.py:2976: The name tf.losses.sparse_softmax_cross_entropy is deprecated. Please use tf.compat.v1.losses.sparse_softmax_cross_entropy instead.\n",
      "\n"
     ]
    }
   ],
   "source": [
    "import torch\n",
    "from transformers import BertTokenizer, BertForSequenceClassification, AdamW\n",
    "from torch.utils.data import DataLoader, TensorDataset\n",
    "import json\n",
    "import numpy as np\n",
    "from sklearn.metrics import accuracy_score, f1_score\n",
    "import matplotlib.pyplot as plt"
   ]
  },
  {
   "cell_type": "code",
   "execution_count": null,
   "metadata": {},
   "outputs": [
    {
     "name": "stdout",
     "output_type": "stream",
     "text": [
      "Structure of first item in train_data:\n",
      "{\n",
      "  \"ID\": \"2017-En-31264\",\n",
      "  \"Tweet\": \"And the weathers so breezy, man why can't life always be this easy?\",\n",
      "  \"anger\": false,\n",
      "  \"anticipation\": false,\n",
      "  \"disgust\": false,\n",
      "  \"fear\": false,\n",
      "  \"joy\": true,\n",
      "  \"love\": false,\n",
      "  \"optimism\": true,\n",
      "  \"pessimism\": false,\n",
      "  \"sadness\": false,\n",
      "  \"surprise\": true,\n",
      "  \"trust\": false\n",
      "}\n",
      "Keys in data item: ['ID', 'Tweet', 'anger', 'anticipation', 'disgust', 'fear', 'joy', 'love', 'optimism', 'pessimism', 'sadness', 'surprise', 'trust']\n",
      "Keys in data item: ['ID', 'Tweet', 'anger', 'anticipation', 'disgust', 'fear', 'joy', 'love', 'optimism', 'pessimism', 'sadness', 'surprise', 'trust']\n",
      "Keys in data item: ['ID', 'Tweet', 'anger', 'anticipation', 'disgust', 'fear', 'joy', 'love', 'optimism', 'pessimism', 'sadness', 'surprise', 'trust']\n",
      "Encoding successful\n",
      "Train labels shape: torch.Size([3000, 11])\n",
      "Test labels shape: torch.Size([1500, 11])\n",
      "Validation labels shape: torch.Size([400, 11])\n",
      "Train encodings shape: torch.Size([3000, 63])\n",
      "Test encodings shape: torch.Size([1500, 57])\n",
      "Validation encodings shape: torch.Size([400, 65])\n",
      "Train dataloader size: 188\n",
      "Validation dataloader size: 25\n",
      "Test dataloader size: 94\n"
     ]
    }
   ],
   "source": [
    "import json\n",
    "import torch\n",
    "from torch.utils.data import TensorDataset, DataLoader\n",
    "from transformers import BertTokenizer\n",
    "\n",
    "def load_json_file(filepath):\n",
    "    with open(filepath, 'r', encoding='utf-8') as f:\n",
    "        data = [json.loads(line.strip()) for line in f]\n",
    "    return data\n",
    "\n",
    "train_data = load_json_file(r'C:\\Users\\V Varunkumar\\Desktop\\Assignments\\Data mining\\DM 3\\student_31\\train.json')\n",
    "test_data = load_json_file(r'C:\\Users\\V Varunkumar\\Desktop\\Assignments\\Data mining\\DM 3\\student_31\\test.json')\n",
    "val_data = load_json_file(r'C:\\Users\\V Varunkumar\\Desktop\\Assignments\\Data mining\\DM 3\\student_31\\validation.json')\n",
    "\n",
    "print(\"Structure of first item in train_data:\")\n",
    "print(json.dumps(train_data[0], indent=2))\n",
    "\n",
    "all_labels = ['anger', 'anticipation', 'disgust', 'fear', 'joy', \n",
    "              'love', 'optimism', 'pessimism', 'sadness', 'surprise', 'trust']\n",
    "\n",
    "def convert_labels_to_list(data, label_classes):\n",
    "    print(\"Keys in data item:\", list(data[0].keys()))\n",
    "    for item in data:\n",
    "        item['labels'] = [float(item[label]) for label in label_classes]\n",
    "    return data\n",
    "\n",
    "train_data = convert_labels_to_list(train_data, all_labels)\n",
    "val_data = convert_labels_to_list(val_data, all_labels)\n",
    "test_data = convert_labels_to_list(test_data, all_labels)\n",
    "\n",
    "tokenizer = BertTokenizer.from_pretrained('bert-base-uncased')\n",
    "\n",
    "def encode_texts(data):\n",
    "    text_key = 'Tweet'  \n",
    "    if text_key not in data[0]:\n",
    "        raise KeyError(f\"'{text_key}' not found in data. Available keys: {list(data[0].keys())}\")\n",
    "    texts = [item[text_key] for item in data]\n",
    "    return tokenizer(texts, padding=True, truncation=True, max_length=128, return_tensors='pt')\n",
    "\n",
    "try:\n",
    "    train_encodings = encode_texts(train_data)\n",
    "    test_encodings = encode_texts(test_data)\n",
    "    val_encodings = encode_texts(val_data)\n",
    "    print(\"Encoding successful\")\n",
    "except Exception as e:\n",
    "    print(f\"Error during encoding: {e}\")\n",
    "    raise  \n",
    "\n",
    "train_labels = torch.tensor([item['labels'] for item in train_data], dtype=torch.float)\n",
    "test_labels = torch.tensor([item['labels'] for item in test_data], dtype=torch.float)\n",
    "val_labels = torch.tensor([item['labels'] for item in val_data], dtype=torch.float)\n",
    "\n",
    "print(\"Train labels shape:\", train_labels.shape)\n",
    "print(\"Test labels shape:\", test_labels.shape)\n",
    "print(\"Validation labels shape:\", val_labels.shape)\n",
    "print(\"Train encodings shape:\", train_encodings['input_ids'].shape)\n",
    "print(\"Test encodings shape:\", test_encodings['input_ids'].shape)\n",
    "print(\"Validation encodings shape:\", val_encodings['input_ids'].shape)\n",
    "\n",
    "def create_dataloader(encodings, labels, batch_size=16):\n",
    "    input_ids = encodings['input_ids']\n",
    "    attention_mask = encodings['attention_mask']\n",
    "    dataset = TensorDataset(input_ids, attention_mask, labels)\n",
    "    return DataLoader(dataset, batch_size=batch_size, shuffle=True)\n",
    "\n",
    "try:\n",
    "    train_dataloader = create_dataloader(train_encodings, train_labels)\n",
    "    val_dataloader = create_dataloader(val_encodings, val_labels)\n",
    "    test_dataloader = create_dataloader(test_encodings, test_labels)\n",
    "\n",
    "    print(\"Train dataloader size:\", len(train_dataloader))\n",
    "    print(\"Validation dataloader size:\", len(val_dataloader))\n",
    "    print(\"Test dataloader size:\", len(test_dataloader))\n",
    "except Exception as e:\n",
    "    print(f\"Error creating dataloaders: {e}\")\n",
    "    print(\"Shape of train_encodings:\", {k: v.shape for k, v in train_encodings.items()})\n",
    "    print(\"Shape of train_labels:\", train_labels.shape)"
   ]
  },
  {
   "cell_type": "code",
   "execution_count": null,
   "metadata": {},
   "outputs": [
    {
     "name": "stderr",
     "output_type": "stream",
     "text": [
      "Some weights of BertForSequenceClassification were not initialized from the model checkpoint at bert-base-uncased and are newly initialized: ['classifier.bias', 'classifier.weight']\n",
      "You should probably TRAIN this model on a down-stream task to be able to use it for predictions and inference.\n"
     ]
    },
    {
     "name": "stdout",
     "output_type": "stream",
     "text": [
      "Model initialized with 11 output labels\n",
      "Optimizer initialized with learning rate 2e-5\n",
      "Model moved to cpu\n"
     ]
    }
   ],
   "source": [
    "from transformers import BertForSequenceClassification\n",
    "from torch.optim import AdamW\n",
    "\n",
    "num_labels = len(all_labels) \n",
    "\n",
    "model = BertForSequenceClassification.from_pretrained('bert-base-uncased', \n",
    "                                                      num_labels=num_labels,\n",
    "                                                      problem_type=\"multi_label_classification\")\n",
    "\n",
    "optimizer = AdamW(model.parameters(), lr=2e-5)\n",
    "\n",
    "print(f\"Model initialized with {num_labels} output labels\")\n",
    "print(f\"Optimizer initialized with learning rate 2e-5\")\n",
    "\n",
    "device = torch.device(\"cuda\" if torch.cuda.is_available() else \"cpu\")\n",
    "model.to(device)\n",
    "print(f\"Model moved to {device}\")"
   ]
  },
  {
   "cell_type": "code",
   "execution_count": null,
   "metadata": {},
   "outputs": [
    {
     "name": "stdout",
     "output_type": "stream",
     "text": [
      "Loaded 1000 train samples, 200 validation samples, 200 test samples\n"
     ]
    },
    {
     "name": "stderr",
     "output_type": "stream",
     "text": [
      "Some weights of BertForSequenceClassification were not initialized from the model checkpoint at bert-base-uncased and are newly initialized: ['classifier.bias', 'classifier.weight']\n",
      "You should probably TRAIN this model on a down-stream task to be able to use it for predictions and inference.\n",
      "Epoch 1/5 [Train]: 100%|██████████| 63/63 [07:38<00:00,  7.28s/it, train_loss=0.4195]\n",
      "Epoch 1/5 [Val]: 100%|██████████| 13/13 [00:19<00:00,  1.47s/it]\n"
     ]
    },
    {
     "name": "stdout",
     "output_type": "stream",
     "text": [
      "Epoch 1/5:\n",
      "Train Loss: 0.5203\n",
      "Validation Loss: 0.4790\n",
      "--------------------------------------------------\n"
     ]
    },
    {
     "name": "stderr",
     "output_type": "stream",
     "text": [
      "Epoch 2/5 [Train]: 100%|██████████| 63/63 [06:32<00:00,  6.23s/it, train_loss=0.4702]\n",
      "Epoch 2/5 [Val]: 100%|██████████| 13/13 [00:20<00:00,  1.58s/it]\n"
     ]
    },
    {
     "name": "stdout",
     "output_type": "stream",
     "text": [
      "Epoch 2/5:\n",
      "Train Loss: 0.4375\n",
      "Validation Loss: 0.4089\n",
      "--------------------------------------------------\n"
     ]
    },
    {
     "name": "stderr",
     "output_type": "stream",
     "text": [
      "Epoch 3/5 [Train]: 100%|██████████| 63/63 [06:27<00:00,  6.15s/it, train_loss=0.3825]\n",
      "Epoch 3/5 [Val]: 100%|██████████| 13/13 [00:29<00:00,  2.24s/it]\n"
     ]
    },
    {
     "name": "stdout",
     "output_type": "stream",
     "text": [
      "Epoch 3/5:\n",
      "Train Loss: 0.3696\n",
      "Validation Loss: 0.3739\n",
      "--------------------------------------------------\n"
     ]
    },
    {
     "name": "stderr",
     "output_type": "stream",
     "text": [
      "Epoch 4/5 [Train]: 100%|██████████| 63/63 [06:14<00:00,  5.95s/it, train_loss=0.3074]\n",
      "Epoch 4/5 [Val]: 100%|██████████| 13/13 [00:18<00:00,  1.45s/it]\n"
     ]
    },
    {
     "name": "stdout",
     "output_type": "stream",
     "text": [
      "Epoch 4/5:\n",
      "Train Loss: 0.3291\n",
      "Validation Loss: 0.3567\n",
      "--------------------------------------------------\n"
     ]
    },
    {
     "name": "stderr",
     "output_type": "stream",
     "text": [
      "Epoch 5/5 [Train]: 100%|██████████| 63/63 [06:10<00:00,  5.88s/it, train_loss=0.2550]\n",
      "Epoch 5/5 [Val]: 100%|██████████| 13/13 [00:18<00:00,  1.44s/it]\n"
     ]
    },
    {
     "name": "stdout",
     "output_type": "stream",
     "text": [
      "Epoch 5/5:\n",
      "Train Loss: 0.2927\n",
      "Validation Loss: 0.3551\n",
      "--------------------------------------------------\n",
      "Training completed!\n",
      "Model saved!\n"
     ]
    }
   ],
   "source": [
    "import json\n",
    "import torch\n",
    "from torch.utils.data import TensorDataset, DataLoader\n",
    "from transformers import BertTokenizer, BertForSequenceClassification\n",
    "from torch.optim import AdamW\n",
    "from tqdm import tqdm\n",
    "\n",
    "def load_json_file(filepath, max_samples=None):\n",
    "    with open(filepath, 'r', encoding='utf-8') as f:\n",
    "        data = [json.loads(line.strip()) for line in f]\n",
    "    if max_samples:\n",
    "        return data[:max_samples]\n",
    "    return data\n",
    "\n",
    "max_samples = 1000  \n",
    "train_data = load_json_file(r'C:\\Users\\V Varunkumar\\Desktop\\Assignments\\Data mining\\DM 3\\student_31\\train.json', max_samples)\n",
    "test_data = load_json_file(r'C:\\Users\\V Varunkumar\\Desktop\\Assignments\\Data mining\\DM 3\\student_31\\test.json', max_samples//5)\n",
    "val_data = load_json_file(r'C:\\Users\\V Varunkumar\\Desktop\\Assignments\\Data mining\\DM 3\\student_31\\validation.json', max_samples//5)\n",
    "\n",
    "print(f\"Loaded {len(train_data)} train samples, {len(val_data)} validation samples, {len(test_data)} test samples\")\n",
    "\n",
    "all_labels = ['anger', 'anticipation', 'disgust', 'fear', 'joy', \n",
    "              'love', 'optimism', 'pessimism', 'sadness', 'surprise', 'trust']\n",
    "\n",
    "\n",
    "def convert_labels_to_list(data, label_classes):\n",
    "    for item in data:\n",
    "        item['labels'] = [float(item[label]) for label in label_classes]\n",
    "    return data\n",
    "\n",
    "train_data = convert_labels_to_list(train_data, all_labels)\n",
    "val_data = convert_labels_to_list(val_data, all_labels)\n",
    "test_data = convert_labels_to_list(test_data, all_labels)\n",
    "\n",
    "\n",
    "tokenizer = BertTokenizer.from_pretrained('bert-base-uncased')\n",
    "\n",
    "def encode_texts(data):\n",
    "    text_key = 'Tweet'  \n",
    "    texts = [item[text_key] for item in data]\n",
    "    return tokenizer(texts, padding=True, truncation=True, max_length=128, return_tensors='pt')\n",
    "\n",
    "train_encodings = encode_texts(train_data)\n",
    "val_encodings = encode_texts(val_data)\n",
    "test_encodings = encode_texts(test_data)\n",
    "\n",
    "train_labels = torch.tensor([item['labels'] for item in train_data], dtype=torch.float)\n",
    "val_labels = torch.tensor([item['labels'] for item in val_data], dtype=torch.float)\n",
    "test_labels = torch.tensor([item['labels'] for item in test_data], dtype=torch.float)\n",
    "\n",
    "def create_dataloader(encodings, labels, batch_size=16):\n",
    "    dataset = TensorDataset(encodings['input_ids'], encodings['attention_mask'], labels)\n",
    "    return DataLoader(dataset, batch_size=batch_size, shuffle=True)\n",
    "\n",
    "train_dataloader = create_dataloader(train_encodings, train_labels)\n",
    "val_dataloader = create_dataloader(val_encodings, val_labels)\n",
    "test_dataloader = create_dataloader(test_encodings, test_labels)\n",
    "\n",
    "num_labels = len(all_labels)\n",
    "model = BertForSequenceClassification.from_pretrained('bert-base-uncased', \n",
    "                                                      num_labels=num_labels,\n",
    "                                                      problem_type=\"multi_label_classification\")\n",
    "\n",
    "optimizer = AdamW(model.parameters(), lr=2e-5)\n",
    "\n",
    "device = torch.device('cuda' if torch.cuda.is_available() else 'cpu')\n",
    "model.to(device)\n",
    "\n",
    "num_epochs = 5  \n",
    "train_losses = []\n",
    "val_losses = []\n",
    "\n",
    "for epoch in range(num_epochs):\n",
    "    model.train()\n",
    "    total_train_loss = 0\n",
    "    progress_bar = tqdm(train_dataloader, desc=f'Epoch {epoch+1}/{num_epochs} [Train]')\n",
    "    \n",
    "    for batch in progress_bar:\n",
    "        input_ids, attention_mask, labels = [b.to(device) for b in batch]\n",
    "        \n",
    "        optimizer.zero_grad()\n",
    "        outputs = model(input_ids, attention_mask=attention_mask, labels=labels)\n",
    "        loss = outputs.loss\n",
    "        total_train_loss += loss.item()\n",
    "        \n",
    "        loss.backward()\n",
    "        optimizer.step()\n",
    "        \n",
    "        progress_bar.set_postfix({'train_loss': f'{loss.item():.4f}'})\n",
    "    \n",
    "    avg_train_loss = total_train_loss / len(train_dataloader)\n",
    "    train_losses.append(avg_train_loss)\n",
    "    \n",
    "    model.eval()\n",
    "    total_val_loss = 0\n",
    "    with torch.no_grad():\n",
    "        for batch in tqdm(val_dataloader, desc=f'Epoch {epoch+1}/{num_epochs} [Val]'):\n",
    "            input_ids, attention_mask, labels = [b.to(device) for b in batch]\n",
    "            outputs = model(input_ids, attention_mask=attention_mask, labels=labels)\n",
    "            total_val_loss += outputs.loss.item()\n",
    "    \n",
    "    avg_val_loss = total_val_loss / len(val_dataloader)\n",
    "    val_losses.append(avg_val_loss)\n",
    "    \n",
    "    print(f'Epoch {epoch+1}/{num_epochs}:')\n",
    "    print(f'Train Loss: {avg_train_loss:.4f}')\n",
    "    print(f'Validation Loss: {avg_val_loss:.4f}')\n",
    "    print('-' * 50)\n",
    "\n",
    "print(\"Training completed!\")\n",
    "\n",
    "# Save the model\n",
    "torch.save(model.state_dict(), 'bert_multi_label_model.pth')\n",
    "print(\"Model saved!\")"
   ]
  },
  {
   "cell_type": "code",
   "execution_count": null,
   "metadata": {},
   "outputs": [
    {
     "data": {
      "image/png": "[encoded data removed]",
      "text/plain": [
       "<Figure size 1000x600 with 1 Axes>"
      ]
     },
     "metadata": {},
     "output_type": "display_data"
    }
   ],
   "source": [
    "import matplotlib.pyplot as plt\n",
    "\n",
    "def plot_learning_curves(train_losses, val_losses):\n",
    "    epochs = range(1, len(train_losses) + 1)\n",
    "    \n",
    "    plt.figure(figsize=(10, 6))\n",
    "    plt.plot(epochs, train_losses, 'b-', label='Training Loss')\n",
    "    plt.plot(epochs, val_losses, 'r-', label='Validation Loss')\n",
    "    plt.title('Training and Validation Losses')\n",
    "    plt.xlabel('Epochs')\n",
    "    plt.ylabel('Loss')\n",
    "    plt.legend()\n",
    "    plt.grid(True)\n",
    "    \n",
    "    # Add value labels\n",
    "    for i, (train_loss, val_loss) in enumerate(zip(train_losses, val_losses)):\n",
    "        plt.text(i+1, train_loss, f'{train_loss:.4f}', ha='center', va='bottom')\n",
    "        plt.text(i+1, val_loss, f'{val_loss:.4f}', ha='center', va='top')\n",
    "    \n",
    "    plt.tight_layout()\n",
    "    plt.savefig('learning_curves.png')\n",
    "    plt.show()\n",
    "\n",
    "# Plot the learning curves\n",
    "plot_learning_curves(train_losses, val_losses)"
   ]
  },
  {
   "cell_type": "code",
   "execution_count": null,
   "metadata": {},
   "outputs": [],
   "source": []
  },
  {
   "cell_type": "code",
   "execution_count": null,
   "metadata": {},
   "outputs": [],
   "source": []
  }
 ],
 "metadata": {
  "kernelspec": {
   "display_name": "Python 3",
   "language": "python",
   "name": "python3"
  },
  "language_info": {
   "codemirror_mode": {
    "name": "ipython",
    "version": 3
   },
   "file_extension": ".py",
   "mimetype": "text/x-python",
   "name": "python",
   "nbconvert_exporter": "python",
   "pygments_lexer": "ipython3",
   "version": "3.11.4"
  }
 },
 "nbformat": 4,
 "nbformat_minor": 2
}
